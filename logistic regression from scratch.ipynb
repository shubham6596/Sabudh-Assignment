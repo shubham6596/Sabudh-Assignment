{
 "cells": [
  {
   "cell_type": "code",
   "execution_count": 19,
   "metadata": {},
   "outputs": [],
   "source": [
    "import numpy as np"
   ]
  },
  {
   "cell_type": "code",
   "execution_count": 20,
   "metadata": {},
   "outputs": [],
   "source": [
    "import sklearn.datasets"
   ]
  },
  {
   "cell_type": "code",
   "execution_count": 21,
   "metadata": {},
   "outputs": [],
   "source": [
    "iris=sklearn.datasets.load_iris()"
   ]
  },
  {
   "cell_type": "code",
   "execution_count": 151,
   "metadata": {},
   "outputs": [],
   "source": [
    "x=iris.data[:-1,:2]"
   ]
  },
  {
   "cell_type": "code",
   "execution_count": 152,
   "metadata": {},
   "outputs": [
    {
     "data": {
      "text/plain": [
       "(149, 2)"
      ]
     },
     "execution_count": 152,
     "metadata": {},
     "output_type": "execute_result"
    }
   ],
   "source": [
    "x.shape"
   ]
  },
  {
   "cell_type": "code",
   "execution_count": 11,
   "metadata": {},
   "outputs": [],
   "source": [
    "y=(iris.target!=0)*1"
   ]
  },
  {
   "cell_type": "code",
   "execution_count": 154,
   "metadata": {},
   "outputs": [],
   "source": [
    "y=y[:-1]"
   ]
  },
  {
   "cell_type": "code",
   "execution_count": 155,
   "metadata": {},
   "outputs": [
    {
     "data": {
      "text/plain": [
       "(149,)"
      ]
     },
     "execution_count": 155,
     "metadata": {},
     "output_type": "execute_result"
    }
   ],
   "source": [
    "y.shape"
   ]
  },
  {
   "cell_type": "code",
   "execution_count": 13,
   "metadata": {},
   "outputs": [],
   "source": [
    "import matplotlib.pyplot as mpt"
   ]
  },
  {
   "cell_type": "code",
   "execution_count": 17,
   "metadata": {},
   "outputs": [],
   "source": [
    "one=zip(x,y)"
   ]
  },
  {
   "cell_type": "code",
   "execution_count": 156,
   "metadata": {},
   "outputs": [
    {
     "data": {
      "image/png": "[encoded data removed]",
      "text/plain": [
       "<Figure size 432x288 with 1 Axes>"
      ]
     },
     "metadata": {
      "needs_background": "light"
     },
     "output_type": "display_data"
    }
   ],
   "source": [
    "mpt.scatter(x[y==0][:,0],x[y==0][:,1],color='b',label='0')\n",
    "mpt.scatter(x[y==1][:,0],x[y==1][:,1],color='g',label='1')\n",
    "mpt.legend()\n",
    "mpt.show()"
   ]
  },
  {
   "cell_type": "code",
   "execution_count": 158,
   "metadata": {},
   "outputs": [
    {
     "data": {
      "text/plain": [
       "array([5.9, 3. ])"
      ]
     },
     "execution_count": 158,
     "metadata": {},
     "output_type": "execute_result"
    }
   ],
   "source": [
    "x_test=iris.data[149,:2]\n",
    "x_test"
   ]
  },
  {
   "cell_type": "code",
   "execution_count": 138,
   "metadata": {},
   "outputs": [],
   "source": [
    "#logistic regression\n",
    "class logistic_regrssion:\n",
    "    def __init__(self,lr=0.01,iteration=10000,fit_intercept=True,verbose=False):\n",
    "        self.lr=lr\n",
    "        self.iteration=iteration\n",
    "        self.fit_intercept=fit_intercept\n",
    "     \n",
    "    def _add_intercept(self,x):\n",
    "        intercept=np.ones((x.shape[0],1))\n",
    "        return np.concatenate((x,intercept),axis=1)\n",
    "    \n",
    "    def sigmoid(self,z):\n",
    "        return 1/(1+np.exp(-z))\n",
    "    \n",
    "    def loss(self,h,y):\n",
    "        return (-y * np.log(h) - (1 - y) * np.log(1 - h)).mean()\n",
    "    \n",
    "    def fit(self,x,y):\n",
    "        if self.fit_intercept:\n",
    "            x=self._add_intercept(x)\n",
    "            \n",
    "        self.theta=np.zeros(x.shape[1])\n",
    "        z=np.dot(x,self.theta)\n",
    "        h=self.sigmoid(z)\n",
    "            \n",
    "        for i in range(self.iteration):\n",
    "            \n",
    "            gradient=np.dot(x.T,(h-y))/len(y)\n",
    "            self.theta-=self.lr*gradient\n",
    "            z=np.dot(x,self.theta)\n",
    "            h=self.sigmoid(z)\n",
    "            \n",
    "            loss=self.loss(h,y)\n",
    "            \n",
    "        print(loss)\n",
    "        \n",
    "    def predict(self,x):\n",
    "        if self.fit_intercept:\n",
    "            x=self._add_itercept(x)\n",
    "        temp=self.sigmoid(np.dot(x,self.theta))    \n",
    "        return temp.round() \n",
    "    def predit_prob(self,x):\n",
    "        if self.fit_intercept:\n",
    "            x=self._add_intercept(x)\n",
    "            return self.sigmoid(np.dot(x,self.theta))  \n"
   ]
  },
  {
   "cell_type": "code",
   "execution_count": 107,
   "metadata": {},
   "outputs": [],
   "source": []
  },
  {
   "cell_type": "code",
   "execution_count": 147,
   "metadata": {},
   "outputs": [],
   "source": [
    "model=logistic_regrssion(lr=0.1,iteration=300000)"
   ]
  },
  {
   "cell_type": "code",
   "execution_count": 148,
   "metadata": {},
   "outputs": [
    {
     "name": "stdout",
     "output_type": "stream",
     "text": [
      "0.007750607165267898\n",
      "CPU times: user 36.1 s, sys: 99.4 ms, total: 36.2 s\n",
      "Wall time: 18.2 s\n"
     ]
    }
   ],
   "source": [
    "%time model.fit(x,y)"
   ]
  },
  {
   "cell_type": "code",
   "execution_count": 149,
   "metadata": {},
   "outputs": [
    {
     "data": {
      "text/plain": [
       "array([ 12.523156  , -13.40150447, -25.89066442])"
      ]
     },
     "execution_count": 149,
     "metadata": {},
     "output_type": "execute_result"
    }
   ],
   "source": [
    "model.theta"
   ]
  },
  {
   "cell_type": "code",
   "execution_count": 150,
   "metadata": {},
   "outputs": [
    {
     "data": {
      "text/plain": [
       "<matplotlib.contour.QuadContourSet at 0x7f1c312f5a90>"
      ]
     },
     "execution_count": 150,
     "metadata": {},
     "output_type": "execute_result"
    },
    {
     "data": {
      "image/png": "[encoded data removed]",
      "text/plain": [
       "<Figure size 720x432 with 1 Axes>"
      ]
     },
     "metadata": {
      "needs_background": "light"
     },
     "output_type": "display_data"
    }
   ],
   "source": [
    "mpt.figure(figsize=(10, 6))\n",
    "mpt.scatter(x[y == 0][:, 0], x[y == 0][:, 1], color='b', label='0')\n",
    "mpt.scatter(x[y == 1][:, 0], x[y == 1][:, 1], color='r', label='1')\n",
    "mpt.legend()\n",
    "x1_min, x1_max = x[:,0].min(), x[:,0].max(),\n",
    "x2_min, x2_max = x[:,1].min(), x[:,1].max(),\n",
    "xx1, xx2 = np.meshgrid(np.linspace(x1_min, x1_max), np.linspace(x2_min, x2_max))\n",
    "grid = np.c_[xx1.ravel(), xx2.ravel()]\n",
    "probs = model.predit_prob(grid).reshape(xx1.shape)\n",
    "mpt.contour(xx1, xx2, probs, [0.5], linewidths=1, colors='black')"
   ]
  },
  {
   "cell_type": "code",
   "execution_count": null,
   "metadata": {},
   "outputs": [],
   "source": []
  }
 ],
 "metadata": {
  "kernelspec": {
   "display_name": "Python 3",
   "language": "python",
   "name": "python3"
  },
  "language_info": {
   "codemirror_mode": {
    "name": "ipython",
    "version": 3
   },
   "file_extension": ".py",
   "mimetype": "text/x-python",
   "name": "python",
   "nbconvert_exporter": "python",
   "pygments_lexer": "ipython3",
   "version": "3.6.7"
  }
 },
 "nbformat": 4,
 "nbformat_minor": 2
}
