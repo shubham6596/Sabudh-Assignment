{
 "cells": [
  {
   "cell_type": "code",
   "execution_count": 1,
   "metadata": {},
   "outputs": [],
   "source": [
    "import numpy as np"
   ]
  },
  {
   "cell_type": "code",
   "execution_count": 66,
   "metadata": {},
   "outputs": [],
   "source": [
    "n=50"
   ]
  },
  {
   "cell_type": "code",
   "execution_count": 35,
   "metadata": {},
   "outputs": [],
   "source": [
    "def generror():\n",
    "    return np.random.normal(loc=np.random.randint(50),size=n)/10"
   ]
  },
  {
   "cell_type": "code",
   "execution_count": 36,
   "metadata": {},
   "outputs": [],
   "source": [
    "error=generror()"
   ]
  },
  {
   "cell_type": "code",
   "execution_count": 37,
   "metadata": {
    "scrolled": true
   },
   "outputs": [
    {
     "data": {
      "text/plain": [
       "array([1.30161196, 1.37469832, 1.32399711, 1.14888494, 1.26093967,\n",
       "       1.21191713, 1.21805763, 1.26586413, 1.28376811, 1.15640751,\n",
       "       1.26846611, 1.45574905, 1.22731241, 1.3066449 , 1.37366455,\n",
       "       1.30037426, 1.34216998, 1.29508464, 1.23938773, 1.3036154 ,\n",
       "       1.24086515, 1.1838128 , 1.40498564, 1.15804357, 1.34789739,\n",
       "       1.42877396, 1.31894042, 1.20030527, 1.44640661, 1.30606606,\n",
       "       1.12525213, 1.23772843, 1.30409421, 1.23560737, 1.31112633,\n",
       "       1.35659041, 1.19392946, 1.28271544, 1.29233478, 1.31430771,\n",
       "       1.26352515, 1.34932652, 1.41288192, 1.15069525, 1.29578423,\n",
       "       1.26986795, 1.47463994, 1.35778114, 1.32147693, 1.45272052])"
      ]
     },
     "execution_count": 37,
     "metadata": {},
     "output_type": "execute_result"
    }
   ],
   "source": [
    "error"
   ]
  },
  {
   "cell_type": "code",
   "execution_count": 62,
   "metadata": {},
   "outputs": [],
   "source": [
    "def x_gen():\n",
    "    return np.random.random(size=n)*20"
   ]
  },
  {
   "cell_type": "code",
   "execution_count": 56,
   "metadata": {},
   "outputs": [],
   "source": [
    "x=x_gen()"
   ]
  },
  {
   "cell_type": "code",
   "execution_count": 51,
   "metadata": {},
   "outputs": [
    {
     "data": {
      "text/plain": [
       "array([12.4575859 ,  4.62968746, 12.6707258 , 15.94632366,  6.33856312,\n",
       "       17.27143697,  5.61355132, 16.34086797,  0.30211125,  3.06545721,\n",
       "       18.26187944,  6.53360134,  8.45947536, 19.86585349,  3.26887898,\n",
       "        5.09930415,  8.3604592 , 11.26020432, 13.40324895,  3.21252702,\n",
       "        8.84362556, 13.17694129, 15.94591191,  2.32297248, 14.47931179,\n",
       "        9.61248087, 13.2635923 , 11.1371822 , 16.97966402,  1.97680347,\n",
       "       15.15039432,  9.28460669, 11.32549331, 13.86005028, 14.96182169,\n",
       "        1.00687144, 11.56438275,  5.35128149, 19.9753996 ,  4.45597163,\n",
       "       15.09570261, 14.34673766,  0.04276267, 19.4869305 ,  9.21355545,\n",
       "        1.10498646,  0.20311865, 18.01006937, 14.37817546,  0.40665258])"
      ]
     },
     "execution_count": 51,
     "metadata": {},
     "output_type": "execute_result"
    }
   ],
   "source": [
    "x"
   ]
  },
  {
   "cell_type": "code",
   "execution_count": 41,
   "metadata": {},
   "outputs": [],
   "source": [
    "m=np.random.random()\n",
    "c=5"
   ]
  },
  {
   "cell_type": "code",
   "execution_count": 63,
   "metadata": {},
   "outputs": [],
   "source": [
    "y=m*x+c+error"
   ]
  },
  {
   "cell_type": "code",
   "execution_count": 60,
   "metadata": {},
   "outputs": [
    {
     "data": {
      "text/plain": [
       "array([7.5540095 , 7.26673352, 6.4240284 , 7.05800453, 7.51371133,\n",
       "       7.75429617, 6.21816649, 6.9526319 , 8.45008733, 7.40610127,\n",
       "       8.00551925, 6.61257032, 6.89841286, 7.25803581, 6.93778726,\n",
       "       8.08990214, 7.56945018, 7.05186951, 6.84603292, 6.96604315,\n",
       "       8.29041423, 6.21617059, 7.04560739, 6.70673312, 6.60461519,\n",
       "       8.71945583, 6.72706601, 8.43611026, 7.25556027, 7.96691929,\n",
       "       6.93263527, 7.17794628, 6.62052235, 8.44667005, 7.9942772 ,\n",
       "       6.72255092, 8.29071256, 7.63118163, 8.28450907, 6.9867026 ,\n",
       "       7.06567467, 7.94464387, 7.72714279, 7.86474822, 8.47515513,\n",
       "       7.14202044, 8.01957482, 6.54391429, 6.39914053, 7.18519999])"
      ]
     },
     "execution_count": 60,
     "metadata": {},
     "output_type": "execute_result"
    }
   ],
   "source": [
    "y"
   ]
  },
  {
   "cell_type": "code",
   "execution_count": 44,
   "metadata": {},
   "outputs": [],
   "source": [
    "import matplotlib.pyplot as mpt"
   ]
  },
  {
   "cell_type": "code",
   "execution_count": 64,
   "metadata": {},
   "outputs": [
    {
     "data": {
      "image/png": "[encoded data removed]",
      "text/plain": [
       "<Figure size 432x288 with 1 Axes>"
      ]
     },
     "metadata": {
      "needs_background": "light"
     },
     "output_type": "display_data"
    }
   ],
   "source": [
    "mpt.scatter(x,y)\n",
    "mpt.show()"
   ]
  },
  {
   "cell_type": "code",
   "execution_count": 89,
   "metadata": {},
   "outputs": [],
   "source": [
    "m_new=np.random.random()\n",
    "c_new=4\n",
    "def derv_w(x,y,c,m,n):\n",
    "    initial=y-m*x-c\n",
    "    initial=np.transpose(initial)\n",
    "    temp=-(initial)*x\n",
    "    temp=np.sum(temp)\n",
    "    return temp/n\n",
    "    "
   ]
  },
  {
   "cell_type": "code",
   "execution_count": 90,
   "metadata": {},
   "outputs": [],
   "source": [
    "def derv_c(x,y,c,m,n):\n",
    "    temp=-(y-m*x-c)\n",
    "    temp=np.sum(temp)\n",
    "    return temp/n"
   ]
  },
  {
   "cell_type": "code",
   "execution_count": 91,
   "metadata": {},
   "outputs": [
    {
     "data": {
      "text/plain": [
       "0.010330254293327679"
      ]
     },
     "execution_count": 91,
     "metadata": {},
     "output_type": "execute_result"
    }
   ],
   "source": [
    "m_new"
   ]
  },
  {
   "cell_type": "code",
   "execution_count": null,
   "metadata": {},
   "outputs": [],
   "source": []
  },
  {
   "cell_type": "code",
   "execution_count": 117,
   "metadata": {},
   "outputs": [],
   "source": [
    "lam=0.001\n",
    "for i in range(8000):\n",
    "    __m=m_new\n",
    "    __c=c_new\n",
    "    dcost_dm=derv_w(x,y,__c,__m,n)\n",
    "    dcost_dc=derv_c(x,y,__c,__m,n)\n",
    "    m_new=__m-lam*dcost_dm\n",
    "    c_new=__c-lam*dcost_dc\n",
    "    #if((np.absolute(m_new-__m)<=0.001)and (np.absolute(c_new-c)<=0.001)):\n",
    "     #   break "
   ]
  },
  {
   "cell_type": "code",
   "execution_count": null,
   "metadata": {},
   "outputs": [],
   "source": []
  },
  {
   "cell_type": "code",
   "execution_count": 118,
   "metadata": {},
   "outputs": [
    {
     "data": {
      "text/plain": [
       "0.24219097661315273"
      ]
     },
     "execution_count": 118,
     "metadata": {},
     "output_type": "execute_result"
    }
   ],
   "source": [
    "m_new"
   ]
  },
  {
   "cell_type": "code",
   "execution_count": 119,
   "metadata": {},
   "outputs": [
    {
     "data": {
      "text/plain": [
       "6.205898696823245"
      ]
     },
     "execution_count": 119,
     "metadata": {},
     "output_type": "execute_result"
    }
   ],
   "source": [
    "c_new"
   ]
  },
  {
   "cell_type": "code",
   "execution_count": 120,
   "metadata": {},
   "outputs": [],
   "source": [
    "y_new=m_new*x+c_new"
   ]
  },
  {
   "cell_type": "code",
   "execution_count": 121,
   "metadata": {},
   "outputs": [
    {
     "data": {
      "image/png": "[encoded data removed]",
      "text/plain": [
       "<Figure size 432x288 with 1 Axes>"
      ]
     },
     "metadata": {
      "needs_background": "light"
     },
     "output_type": "display_data"
    }
   ],
   "source": [
    "\n",
    "mpt.scatter(x,y,color='green')\n",
    "mpt.plot(x,y_new,color='red')\n",
    "mpt.xlabel('x')\n",
    "mpt.ylabel('y')\n",
    "mpt.show()"
   ]
  },
  {
   "cell_type": "raw",
   "metadata": {},
   "source": [
    "ma"
   ]
  },
  {
   "cell_type": "code",
   "execution_count": 128,
   "metadata": {},
   "outputs": [],
   "source": [
    "matrix_x=np.matrix(x)"
   ]
  },
  {
   "cell_type": "code",
   "execution_count": 129,
   "metadata": {},
   "outputs": [
    {
     "data": {
      "text/plain": [
       "(1, 50)"
      ]
     },
     "execution_count": 129,
     "metadata": {},
     "output_type": "execute_result"
    }
   ],
   "source": [
    "matrix_x.shape"
   ]
  },
  {
   "cell_type": "code",
   "execution_count": 124,
   "metadata": {},
   "outputs": [],
   "source": [
    "mat_one=np.ones((1,50))"
   ]
  },
  {
   "cell_type": "code",
   "execution_count": 125,
   "metadata": {},
   "outputs": [],
   "source": [
    "final_matrix=np.append(mat_one,matrix_x)"
   ]
  },
  {
   "cell_type": "code",
   "execution_count": 127,
   "metadata": {},
   "outputs": [
    {
     "data": {
      "text/plain": [
       "(100,)"
      ]
     },
     "execution_count": 127,
     "metadata": {},
     "output_type": "execute_result"
    }
   ],
   "source": [
    "final_matrix.shape"
   ]
  },
  {
   "cell_type": "code",
   "execution_count": null,
   "metadata": {},
   "outputs": [],
   "source": []
  }
 ],
 "metadata": {
  "kernelspec": {
   "display_name": "Python 3",
   "language": "python",
   "name": "python3"
  },
  "language_info": {
   "codemirror_mode": {
    "name": "ipython",
    "version": 3
   },
   "file_extension": ".py",
   "mimetype": "text/x-python",
   "name": "python",
   "nbconvert_exporter": "python",
   "pygments_lexer": "ipython3",
   "version": "3.6.7"
  }
 },
 "nbformat": 4,
 "nbformat_minor": 2
}
